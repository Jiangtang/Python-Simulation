{
 "cells": [
  {
   "cell_type": "markdown",
   "id": "suitable-manchester",
   "metadata": {},
   "source": [
    "# Combinatorics "
   ]
  },
  {
   "cell_type": "markdown",
   "id": "careful-measure",
   "metadata": {},
   "source": [
    "## Factorials"
   ]
  },
  {
   "cell_type": "code",
   "execution_count": 119,
   "id": "studied-scene",
   "metadata": {},
   "outputs": [],
   "source": [
    "import math, scipy.special as sc, numpy as np"
   ]
  },
  {
   "cell_type": "code",
   "execution_count": 88,
   "id": "offshore-martial",
   "metadata": {},
   "outputs": [
    {
     "data": {
      "text/plain": [
       "(24, 24.0)"
      ]
     },
     "execution_count": 88,
     "metadata": {},
     "output_type": "execute_result"
    }
   ],
   "source": [
    "math.factorial(4), sc.factorial(4)"
   ]
  },
  {
   "cell_type": "markdown",
   "id": "coastal-banner",
   "metadata": {},
   "source": [
    "## Permutation"
   ]
  },
  {
   "cell_type": "code",
   "execution_count": 89,
   "id": "retired-sweden",
   "metadata": {},
   "outputs": [
    {
     "data": {
      "text/plain": [
       "(720, 720.0)"
      ]
     },
     "execution_count": 89,
     "metadata": {},
     "output_type": "execute_result"
    }
   ],
   "source": [
    "math.perm(10,3), sc.perm(10,3)"
   ]
  },
  {
   "cell_type": "markdown",
   "id": "satellite-albania",
   "metadata": {},
   "source": [
    "## Binomial Coefficients"
   ]
  },
  {
   "cell_type": "code",
   "execution_count": 90,
   "id": "three-piece",
   "metadata": {},
   "outputs": [
    {
     "data": {
      "text/plain": [
       "(120, 120.0, 120.0)"
      ]
     },
     "execution_count": 90,
     "metadata": {},
     "output_type": "execute_result"
    }
   ],
   "source": [
    "math.comb(10,3), sc.comb(10,3), sc.binom(10,3)"
   ]
  },
  {
   "cell_type": "markdown",
   "id": "architectural-boston",
   "metadata": {},
   "source": [
    "## Counting"
   ]
  },
  {
   "cell_type": "markdown",
   "id": "figured-australia",
   "metadata": {},
   "source": [
    "|   |Order matters   | matter  |\n",
    "|---|---|---|\n",
    "| with replacement  |product   |  combinations_with_replacement |\n",
    "| without replacement  | permutations  |  combinations |\n"
   ]
  },
  {
   "cell_type": "code",
   "execution_count": 91,
   "id": "conscious-tulsa",
   "metadata": {},
   "outputs": [],
   "source": [
    "from itertools import product, permutations, combinations, combinations_with_replacement"
   ]
  },
  {
   "cell_type": "markdown",
   "id": "charged-collins",
   "metadata": {},
   "source": [
    "### Order matters, with replacement"
   ]
  },
  {
   "cell_type": "code",
   "execution_count": 125,
   "id": "eight-promotion",
   "metadata": {},
   "outputs": [
    {
     "data": {
      "text/plain": [
       "[('A', 'A'),\n",
       " ('A', 'B'),\n",
       " ('A', 'C'),\n",
       " ('B', 'A'),\n",
       " ('B', 'B'),\n",
       " ('B', 'C'),\n",
       " ('C', 'A'),\n",
       " ('C', 'B'),\n",
       " ('C', 'C')]"
      ]
     },
     "execution_count": 125,
     "metadata": {},
     "output_type": "execute_result"
    }
   ],
   "source": [
    "all_2_letters_words = list(product(\"ABC\", repeat=2))\n",
    "all_2_letters_words"
   ]
  },
  {
   "cell_type": "code",
   "execution_count": 93,
   "id": "anticipated-gabriel",
   "metadata": {},
   "outputs": [
    {
     "name": "stdout",
     "output_type": "stream",
     "text": [
      "9\n"
     ]
    }
   ],
   "source": [
    "print(len(all_2_letters_words))\n",
    "assert len(all_2_letters_words) == 3 * 3 "
   ]
  },
  {
   "cell_type": "markdown",
   "id": "synthetic-hybrid",
   "metadata": {},
   "source": [
    "### Order matters, without replacement"
   ]
  },
  {
   "cell_type": "code",
   "execution_count": 94,
   "id": "subtle-column",
   "metadata": {},
   "outputs": [
    {
     "data": {
      "text/plain": [
       "[('A', 'B'), ('A', 'C'), ('B', 'A'), ('B', 'C'), ('C', 'A'), ('C', 'B')]"
      ]
     },
     "execution_count": 94,
     "metadata": {},
     "output_type": "execute_result"
    }
   ],
   "source": [
    "all_2_different_letters_words = list(permutations(\"ABC\", 2))\n",
    "all_2_different_letters_words"
   ]
  },
  {
   "cell_type": "code",
   "execution_count": 95,
   "id": "positive-newsletter",
   "metadata": {},
   "outputs": [
    {
     "name": "stdout",
     "output_type": "stream",
     "text": [
      "6\n"
     ]
    }
   ],
   "source": [
    "print(len(all_2_different_letters_words))\n",
    "assert len(all_2_different_letters_words) == math.perm(3,2)"
   ]
  },
  {
   "cell_type": "markdown",
   "id": "brutal-height",
   "metadata": {},
   "source": [
    "### Order doesn't matter, without replacement: n choose k"
   ]
  },
  {
   "cell_type": "code",
   "execution_count": 96,
   "id": "received-pakistan",
   "metadata": {},
   "outputs": [
    {
     "data": {
      "text/plain": [
       "[('A', 'B'), ('A', 'C'), ('B', 'C')]"
      ]
     },
     "execution_count": 96,
     "metadata": {},
     "output_type": "execute_result"
    }
   ],
   "source": [
    "nCk = list(combinations(\"ABC\", 2))\n",
    "nCk"
   ]
  },
  {
   "cell_type": "code",
   "execution_count": 97,
   "id": "final-cycling",
   "metadata": {},
   "outputs": [
    {
     "name": "stdout",
     "output_type": "stream",
     "text": [
      "3\n"
     ]
    }
   ],
   "source": [
    "print(len(nCk))\n",
    "assert len(nCk) == math.comb(3,2)"
   ]
  },
  {
   "cell_type": "markdown",
   "id": "ignored-coordination",
   "metadata": {},
   "source": [
    "### Order doesn't matter, with replacement: Bose-Einstein"
   ]
  },
  {
   "cell_type": "code",
   "execution_count": 100,
   "id": "tested-compensation",
   "metadata": {},
   "outputs": [
    {
     "data": {
      "text/plain": [
       "[('A', 'A'), ('A', 'B'), ('A', 'C'), ('B', 'B'), ('B', 'C'), ('C', 'C')]"
      ]
     },
     "execution_count": 100,
     "metadata": {},
     "output_type": "execute_result"
    }
   ],
   "source": [
    "be = list(combinations_with_replacement(\"ABC\", 2))\n",
    "be "
   ]
  },
  {
   "cell_type": "code",
   "execution_count": 101,
   "id": "southwest-settle",
   "metadata": {},
   "outputs": [
    {
     "data": {
      "text/plain": [
       "6"
      ]
     },
     "execution_count": 101,
     "metadata": {},
     "output_type": "execute_result"
    }
   ],
   "source": [
    "len(be)"
   ]
  },
  {
   "cell_type": "markdown",
   "id": "approved-stupid",
   "metadata": {},
   "source": [
    "# Sampling"
   ]
  },
  {
   "cell_type": "code",
   "execution_count": 115,
   "id": "sophisticated-booking",
   "metadata": {},
   "outputs": [],
   "source": [
    "# R: sample(x, size, replace = FALSE, prob = NULL)"
   ]
  },
  {
   "cell_type": "markdown",
   "id": "banned-charity",
   "metadata": {},
   "source": [
    "## python.random"
   ]
  },
  {
   "cell_type": "code",
   "execution_count": 104,
   "id": "imposed-abuse",
   "metadata": {},
   "outputs": [],
   "source": [
    "from random import choice, choices, sample"
   ]
  },
  {
   "cell_type": "code",
   "execution_count": 126,
   "id": "preceding-arctic",
   "metadata": {},
   "outputs": [
    {
     "data": {
      "text/plain": [
       "'B'"
      ]
     },
     "execution_count": 126,
     "metadata": {},
     "output_type": "execute_result"
    }
   ],
   "source": [
    "choice(['A', 'B', 'C']) "
   ]
  },
  {
   "cell_type": "code",
   "execution_count": 112,
   "id": "opposed-scheduling",
   "metadata": {},
   "outputs": [
    {
     "data": {
      "text/plain": [
       "['C', 'C']"
      ]
     },
     "execution_count": 112,
     "metadata": {},
     "output_type": "execute_result"
    }
   ],
   "source": [
    "choices(['A', 'B', 'C'], k=2) # with replacement"
   ]
  },
  {
   "cell_type": "code",
   "execution_count": 114,
   "id": "sensitive-penguin",
   "metadata": {},
   "outputs": [
    {
     "data": {
      "text/plain": [
       "['A', 'B']"
      ]
     },
     "execution_count": 114,
     "metadata": {},
     "output_type": "execute_result"
    }
   ],
   "source": [
    "sample(['A', 'B', 'C'], k=2)  # without replacement"
   ]
  },
  {
   "cell_type": "markdown",
   "id": "recovered-mission",
   "metadata": {},
   "source": [
    "## numpy.random"
   ]
  },
  {
   "cell_type": "code",
   "execution_count": 138,
   "id": "dimensional-butler",
   "metadata": {},
   "outputs": [],
   "source": [
    "# random.choice(a, size=None, replace=True, p=None)"
   ]
  },
  {
   "cell_type": "code",
   "execution_count": 136,
   "id": "figured-reform",
   "metadata": {},
   "outputs": [
    {
     "data": {
      "text/plain": [
       "array([1, 2])"
      ]
     },
     "execution_count": 136,
     "metadata": {},
     "output_type": "execute_result"
    }
   ],
   "source": [
    "np.random.choice(3,2)"
   ]
  },
  {
   "cell_type": "markdown",
   "id": "planned-brunswick",
   "metadata": {},
   "source": [
    "### example: de Montmort's matching problem"
   ]
  },
  {
   "cell_type": "code",
   "execution_count": 264,
   "id": "portuguese-buying",
   "metadata": {},
   "outputs": [
    {
     "data": {
      "text/plain": [
       "0.63397"
      ]
     },
     "execution_count": 264,
     "metadata": {},
     "output_type": "execute_result"
    }
   ],
   "source": [
    "n = 1000\n",
    "N = 10 ** 5\n",
    "\n",
    "numbers = [i for i in range(1, n + 1)]\n",
    "res = []\n",
    "\n",
    "for i in range(N):\n",
    "    a = sum(np.random.choice(numbers, n, replace = False) == numbers)\n",
    "    res.append(a)\n",
    "    \n",
    "sum(np.array(res) >=1) / N"
   ]
  },
  {
   "cell_type": "code",
   "execution_count": 263,
   "id": "laughing-fairy",
   "metadata": {},
   "outputs": [
    {
     "data": {
      "text/plain": [
       "0.6321205588285577"
      ]
     },
     "execution_count": 263,
     "metadata": {},
     "output_type": "execute_result"
    }
   ],
   "source": [
    "1 - 1 / math.e"
   ]
  },
  {
   "cell_type": "code",
   "execution_count": null,
   "id": "visible-motorcycle",
   "metadata": {},
   "outputs": [],
   "source": []
  },
  {
   "cell_type": "markdown",
   "id": "cardiac-essence",
   "metadata": {},
   "source": [
    "### Bexample: Birthday "
   ]
  },
  {
   "cell_type": "code",
   "execution_count": 272,
   "id": "integrated-layout",
   "metadata": {},
   "outputs": [
    {
     "data": {
      "text/plain": [
       "array([[ 7,  9, 10,  4, 10,  5,  1,  1,  7, 10],\n",
       "       [ 5,  1,  5,  5,  1,  2, 10,  1, 10,  6],\n",
       "       [ 3,  6, 10, 10,  5,  8,  1,  3,  3,  5],\n",
       "       [ 4,  6,  2,  5,  5,  4,  2,  2,  9,  6],\n",
       "       [10,  6,  6,  1,  9,  9,  7,  7,  2,  3]])"
      ]
     },
     "execution_count": 272,
     "metadata": {},
     "output_type": "execute_result"
    }
   ],
   "source": [
    "n = 10\n",
    "N = 5\n",
    "numbers = [i for i in range(1, n + 1)]\n",
    "np.random.choice(numbers, n*N, replace = True).reshape(N, n)"
   ]
  },
  {
   "cell_type": "code",
   "execution_count": null,
   "id": "exposed-calgary",
   "metadata": {},
   "outputs": [],
   "source": []
  },
  {
   "cell_type": "code",
   "execution_count": 280,
   "id": "selected-productivity",
   "metadata": {},
   "outputs": [
    {
     "name": "stdout",
     "output_type": "stream",
     "text": [
      "Estimated P(ALOC) after 10000 trials: 0.5072\n"
     ]
    }
   ],
   "source": [
    "from random import randint\n",
    " \n",
    " \n",
    "NUM_PEOPLE = 23\n",
    "NUM_POSSIBLE_BIRTHDAYS = 365\n",
    "NUM_TRIALS = 10000\n",
    " \n",
    " \n",
    "def generate_random_birthday():\n",
    "    birthday = randint(1, NUM_POSSIBLE_BIRTHDAYS)\n",
    "    return birthday\n",
    " \n",
    " \n",
    "def generate_k_birthdays(k):\n",
    "    birthdays = [generate_random_birthday() for _ in range(k)]\n",
    "    return birthdays\n",
    " \n",
    " \n",
    "def aloc(birthdays):\n",
    "    unique_birthdays = set(birthdays)\n",
    " \n",
    "    num_birthdays = len(birthdays)\n",
    "    num_unique_birthdays = len(unique_birthdays)\n",
    "    has_coincidence = (num_birthdays != num_unique_birthdays)\n",
    " \n",
    "    return has_coincidence\n",
    " \n",
    " \n",
    "def estimate_p_aloc():\n",
    "    num_aloc = 0\n",
    "    for _ in range(NUM_TRIALS):\n",
    "        birthdays = generate_k_birthdays(NUM_PEOPLE)\n",
    "        has_coincidence = aloc(birthdays)\n",
    "        if has_coincidence:\n",
    "            num_aloc += 1\n",
    " \n",
    "    p_aloc = num_aloc / NUM_TRIALS\n",
    "    return p_aloc\n",
    " \n",
    " \n",
    "p_aloc = estimate_p_aloc()\n",
    "print(f\"Estimated P(ALOC) after {NUM_TRIALS} trials: {p_aloc}\")"
   ]
  },
  {
   "cell_type": "code",
   "execution_count": null,
   "id": "periodic-bouquet",
   "metadata": {},
   "outputs": [],
   "source": []
  },
  {
   "cell_type": "code",
   "execution_count": 289,
   "id": "likely-yemen",
   "metadata": {},
   "outputs": [
    {
     "data": {
      "text/plain": [
       "0.499"
      ]
     },
     "execution_count": 289,
     "metadata": {},
     "output_type": "execute_result"
    }
   ],
   "source": [
    "days = [i for i in range(1, 366)]\n",
    "people = 23\n",
    "\n",
    "def birthday_sim(people):\n",
    "    sims, unique_birthdays = 2000, 0 \n",
    "    for _ in range(sims):\n",
    "        draw = np.random.choice(days, size=people, replace=True)\n",
    "        if len(draw) == len(set(draw)): \n",
    "            unique_birthdays += 1\n",
    "    out = 1 - unique_birthdays / sims\n",
    "    return out\n",
    "\n",
    "birthday_sim(people)"
   ]
  },
  {
   "cell_type": "code",
   "execution_count": 279,
   "id": "novel-andorra",
   "metadata": {},
   "outputs": [
    {
     "data": {
      "text/plain": [
       "0.514"
      ]
     },
     "execution_count": 279,
     "metadata": {},
     "output_type": "execute_result"
    }
   ],
   "source": []
  },
  {
   "cell_type": "markdown",
   "id": "august-audit",
   "metadata": {},
   "source": [
    "## scikit-learn"
   ]
  },
  {
   "cell_type": "code",
   "execution_count": 117,
   "id": "featured-fellowship",
   "metadata": {},
   "outputs": [],
   "source": [
    "from sklearn.utils import resample"
   ]
  },
  {
   "cell_type": "code",
   "execution_count": 290,
   "id": "cleared-webster",
   "metadata": {},
   "outputs": [
    {
     "data": {
      "text/plain": [
       "array([9, 9, 7, 3, 9, 8, 3, 2, 6, 5])"
      ]
     },
     "execution_count": 290,
     "metadata": {},
     "output_type": "execute_result"
    }
   ],
   "source": [
    "resample(np.arange(1,10), n_samples=10, replace=True,random_state=2)"
   ]
  },
  {
   "cell_type": "code",
   "execution_count": null,
   "id": "featured-composer",
   "metadata": {},
   "outputs": [],
   "source": []
  },
  {
   "cell_type": "code",
   "execution_count": null,
   "id": "worldwide-validity",
   "metadata": {},
   "outputs": [],
   "source": []
  },
  {
   "cell_type": "markdown",
   "id": "surface-screw",
   "metadata": {},
   "source": [
    "## pandas"
   ]
  },
  {
   "cell_type": "code",
   "execution_count": null,
   "id": "local-darwin",
   "metadata": {},
   "outputs": [],
   "source": []
  },
  {
   "cell_type": "code",
   "execution_count": 121,
   "id": "knowing-alberta",
   "metadata": {},
   "outputs": [
    {
     "data": {
      "text/html": [
       "<div>\n",
       "<style scoped>\n",
       "    .dataframe tbody tr th:only-of-type {\n",
       "        vertical-align: middle;\n",
       "    }\n",
       "\n",
       "    .dataframe tbody tr th {\n",
       "        vertical-align: top;\n",
       "    }\n",
       "\n",
       "    .dataframe thead th {\n",
       "        text-align: right;\n",
       "    }\n",
       "</style>\n",
       "<table border=\"1\" class=\"dataframe\">\n",
       "  <thead>\n",
       "    <tr style=\"text-align: right;\">\n",
       "      <th></th>\n",
       "      <th>a</th>\n",
       "      <th>b</th>\n",
       "    </tr>\n",
       "  </thead>\n",
       "  <tbody>\n",
       "    <tr>\n",
       "      <th>0</th>\n",
       "      <td>1</td>\n",
       "      <td>6</td>\n",
       "    </tr>\n",
       "    <tr>\n",
       "      <th>1</th>\n",
       "      <td>2</td>\n",
       "      <td>7</td>\n",
       "    </tr>\n",
       "    <tr>\n",
       "      <th>2</th>\n",
       "      <td>3</td>\n",
       "      <td>8</td>\n",
       "    </tr>\n",
       "    <tr>\n",
       "      <th>3</th>\n",
       "      <td>4</td>\n",
       "      <td>9</td>\n",
       "    </tr>\n",
       "    <tr>\n",
       "      <th>4</th>\n",
       "      <td>5</td>\n",
       "      <td>0</td>\n",
       "    </tr>\n",
       "  </tbody>\n",
       "</table>\n",
       "</div>"
      ],
      "text/plain": [
       "   a  b\n",
       "0  1  6\n",
       "1  2  7\n",
       "2  3  8\n",
       "3  4  9\n",
       "4  5  0"
      ]
     },
     "execution_count": 121,
     "metadata": {},
     "output_type": "execute_result"
    }
   ],
   "source": [
    "import pandas as pd\n",
    "df = pd.DataFrame({'a': [1, 2, 3, 4, 5], 'b': [6, 7, 8, 9, 0]})\n",
    "df"
   ]
  },
  {
   "cell_type": "code",
   "execution_count": 122,
   "id": "appointed-skill",
   "metadata": {},
   "outputs": [
    {
     "data": {
      "text/html": [
       "<div>\n",
       "<style scoped>\n",
       "    .dataframe tbody tr th:only-of-type {\n",
       "        vertical-align: middle;\n",
       "    }\n",
       "\n",
       "    .dataframe tbody tr th {\n",
       "        vertical-align: top;\n",
       "    }\n",
       "\n",
       "    .dataframe thead th {\n",
       "        text-align: right;\n",
       "    }\n",
       "</style>\n",
       "<table border=\"1\" class=\"dataframe\">\n",
       "  <thead>\n",
       "    <tr style=\"text-align: right;\">\n",
       "      <th></th>\n",
       "      <th>a</th>\n",
       "      <th>b</th>\n",
       "    </tr>\n",
       "  </thead>\n",
       "  <tbody>\n",
       "    <tr>\n",
       "      <th>0</th>\n",
       "      <td>1</td>\n",
       "      <td>6</td>\n",
       "    </tr>\n",
       "    <tr>\n",
       "      <th>3</th>\n",
       "      <td>4</td>\n",
       "      <td>9</td>\n",
       "    </tr>\n",
       "    <tr>\n",
       "      <th>2</th>\n",
       "      <td>3</td>\n",
       "      <td>8</td>\n",
       "    </tr>\n",
       "  </tbody>\n",
       "</table>\n",
       "</div>"
      ],
      "text/plain": [
       "   a  b\n",
       "0  1  6\n",
       "3  4  9\n",
       "2  3  8"
      ]
     },
     "execution_count": 122,
     "metadata": {},
     "output_type": "execute_result"
    }
   ],
   "source": [
    "df.sample(3)"
   ]
  },
  {
   "cell_type": "code",
   "execution_count": 123,
   "id": "lesser-constraint",
   "metadata": {},
   "outputs": [
    {
     "data": {
      "text/plain": [
       "0    1\n",
       "2    3\n",
       "0    1\n",
       "1    2\n",
       "Name: a, dtype: int64"
      ]
     },
     "execution_count": 123,
     "metadata": {},
     "output_type": "execute_result"
    }
   ],
   "source": [
    " df['a'].sample(4, replace=True, weights=df['b'])"
   ]
  },
  {
   "cell_type": "markdown",
   "id": "extraordinary-rehabilitation",
   "metadata": {},
   "source": [
    "# Random Numbers"
   ]
  },
  {
   "cell_type": "code",
   "execution_count": null,
   "id": "daily-welsh",
   "metadata": {},
   "outputs": [],
   "source": []
  }
 ],
 "metadata": {
  "kernelspec": {
   "display_name": "Python 3",
   "language": "python",
   "name": "python3"
  },
  "language_info": {
   "codemirror_mode": {
    "name": "ipython",
    "version": 3
   },
   "file_extension": ".py",
   "mimetype": "text/x-python",
   "name": "python",
   "nbconvert_exporter": "python",
   "pygments_lexer": "ipython3",
   "version": "3.8.5"
  }
 },
 "nbformat": 4,
 "nbformat_minor": 5
}
